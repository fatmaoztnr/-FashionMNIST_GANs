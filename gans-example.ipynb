{
 "cells": [
  {
   "cell_type": "markdown",
   "metadata": {
    "papermill": {
     "duration": 0.02365,
     "end_time": "2020-11-17T13:41:32.000123",
     "exception": false,
     "start_time": "2020-11-17T13:41:31.976473",
     "status": "completed"
    },
    "tags": []
   },
   "source": [
    "<font color='red'>\n",
    "<br>Content:\n",
    "    \n",
    "* [Introduction](#1)\n",
    "    * [What are GANs ?](#2)\n",
    "* [Generative Adversarial Networks](#3)\n",
    "    * [Loading Dataset](#4)\n",
    "    * [Generative Part](#5)\n",
    "    * [Discriminatory Part](#6)\n",
    "    * [Create GANs Model](#7)\n",
    "    * [Visualization](#8)\n",
    "    "
   ]
  },
  {
   "cell_type": "markdown",
   "metadata": {
    "papermill": {
     "duration": 0.022823,
     "end_time": "2020-11-17T13:41:32.045885",
     "exception": false,
     "start_time": "2020-11-17T13:41:32.023062",
     "status": "completed"
    },
    "tags": []
   },
   "source": [
    "<a id=\"1\"></a> <br>\n",
    "## Introduction\n",
    "<a id=\"2\"></a> <br>\n",
    "## What are GANs ?\n",
    "\n",
    "Generative Adversarial Networks, or GANs for short, are an approach to generative modeling using deep learning methods, such as convolutional neural networks.\n",
    "\n",
    "Generative modeling is an unsupervised learning task in machine learning that involves automatically discovering and learning the regularities or patterns in input data in such a way that the model can be used to generate or output new examples that plausibly could have been drawn from the original dataset.\n",
    "\n",
    "GANs are a clever way of training a generative model by framing the problem as a supervised learning problem with two sub-models: the generator model that we train to generate new examples, and the discriminator model that tries to classify examples as either real (from the domain) or fake (generated). The two models are trained together in a zero-sum game, adversarial, until the discriminator model is fooled about half the time, meaning the generator model is generating plausible examples.\n",
    "\n",
    "GANs are an exciting and rapidly changing field, delivering on the promise of generative models in their ability to generate realistic examples across a range of problem domains, most notably in image-to-image translation tasks such as translating photos of summer to winter or day to night, and in generating photorealistic photos of objects, scenes, and people that even humans cannot tell are fake.\n",
    "\n",
    "In this post, you will discover a gentle introduction to Generative Adversarial Networks, or GANs.\n",
    "\n",
    "After reading this post, you will know:\n",
    "- Context for GANs, including supervised vs. unsupervised learning and discriminative vs. generative modeling.\n",
    "- GANs are an architecture for automatically training a generative model by treating the unsupervised problem as supervised and using both a generative and a discriminative model.\n",
    "- GANs provide a path to sophisticated domain-specific data augmentation and a solution to problems that require a generative solution, such as image-to-image translation."
   ]
  },
  {
   "cell_type": "code",
   "execution_count": 1,
   "metadata": {
    "_cell_guid": "b1076dfc-b9ad-4769-8c92-a6c4dae69d19",
    "_uuid": "8f2839f25d086af736a60e9eeb907d3b93b6e0e5",
    "execution": {
     "iopub.execute_input": "2020-11-17T13:41:32.100776Z",
     "iopub.status.busy": "2020-11-17T13:41:32.099957Z",
     "iopub.status.idle": "2020-11-17T13:41:32.107675Z",
     "shell.execute_reply": "2020-11-17T13:41:32.107000Z"
    },
    "papermill": {
     "duration": 0.037836,
     "end_time": "2020-11-17T13:41:32.107807",
     "exception": false,
     "start_time": "2020-11-17T13:41:32.069971",
     "status": "completed"
    },
    "tags": []
   },
   "outputs": [
    {
     "name": "stdout",
     "output_type": "stream",
     "text": [
      "/kaggle/input/fashionmnist/t10k-labels-idx1-ubyte\n",
      "/kaggle/input/fashionmnist/train-labels-idx1-ubyte\n",
      "/kaggle/input/fashionmnist/fashion-mnist_test.csv\n",
      "/kaggle/input/fashionmnist/train-images-idx3-ubyte\n",
      "/kaggle/input/fashionmnist/t10k-images-idx3-ubyte\n",
      "/kaggle/input/fashionmnist/fashion-mnist_train.csv\n"
     ]
    }
   ],
   "source": [
    "# This Python 3 environment comes with many helpful analytics libraries installed\n",
    "# It is defined by the kaggle/python Docker image: https://github.com/kaggle/docker-python\n",
    "# For example, here's several helpful packages to load\n",
    "\n",
    "import numpy as np # linear algebra\n",
    "import pandas as pd # data processing, CSV file I/O (e.g. pd.read_csv)\n",
    "import matplotlib.pyplot as plt\n",
    "\n",
    "# Input data files are available in the read-only \"../input/\" directory\n",
    "# For example, running this (by clicking run or pressing Shift+Enter) will list all files under the input directory\n",
    "\n",
    "import os\n",
    "for dirname, _, filenames in os.walk('/kaggle/input'):\n",
    "    for filename in filenames:\n",
    "        print(os.path.join(dirname, filename))\n",
    "\n",
    "# You can write up to 5GB to the current directory (/kaggle/working/) that gets preserved as output when you create a version using \"Save & Run All\" \n",
    "# You can also write temporary files to /kaggle/temp/, but they won't be saved outside of the current session"
   ]
  },
  {
   "cell_type": "markdown",
   "metadata": {
    "papermill": {
     "duration": 0.022924,
     "end_time": "2020-11-17T13:41:32.155274",
     "exception": false,
     "start_time": "2020-11-17T13:41:32.132350",
     "status": "completed"
    },
    "tags": []
   },
   "source": [
    "<a id=\"3\"></a> <br>\n",
    "## Generative Adversarial Networks\n",
    "<a id=\"4\"></a> <br>\n",
    "## Loading Dataset"
   ]
  },
  {
   "cell_type": "code",
   "execution_count": 2,
   "metadata": {
    "_cell_guid": "79c7e3d0-c299-4dcb-8224-4455121ee9b0",
    "_uuid": "d629ff2d2480ee46fbb7e2d37f6b5fab8052498a",
    "execution": {
     "iopub.execute_input": "2020-11-17T13:41:32.208607Z",
     "iopub.status.busy": "2020-11-17T13:41:32.207828Z",
     "iopub.status.idle": "2020-11-17T13:41:38.568291Z",
     "shell.execute_reply": "2020-11-17T13:41:38.567474Z"
    },
    "papermill": {
     "duration": 6.389919,
     "end_time": "2020-11-17T13:41:38.568418",
     "exception": false,
     "start_time": "2020-11-17T13:41:32.178499",
     "status": "completed"
    },
    "tags": []
   },
   "outputs": [],
   "source": [
    "import matplotlib.pyplot as plt\n",
    "from keras import preprocessing\n",
    "from keras.models import Sequential\n",
    "from keras.layers import Conv2D,Dropout,Dense,Flatten,Conv2DTranspose,BatchNormalization,LeakyReLU,Reshape\n",
    "import tensorflow as tf"
   ]
  },
  {
   "cell_type": "code",
   "execution_count": 3,
   "metadata": {
    "execution": {
     "iopub.execute_input": "2020-11-17T13:41:38.623473Z",
     "iopub.status.busy": "2020-11-17T13:41:38.622760Z",
     "iopub.status.idle": "2020-11-17T13:41:45.243293Z",
     "shell.execute_reply": "2020-11-17T13:41:45.242683Z"
    },
    "papermill": {
     "duration": 6.65019,
     "end_time": "2020-11-17T13:41:45.243466",
     "exception": false,
     "start_time": "2020-11-17T13:41:38.593276",
     "status": "completed"
    },
    "tags": []
   },
   "outputs": [
    {
     "data": {
      "text/html": [
       "<div>\n",
       "<style scoped>\n",
       "    .dataframe tbody tr th:only-of-type {\n",
       "        vertical-align: middle;\n",
       "    }\n",
       "\n",
       "    .dataframe tbody tr th {\n",
       "        vertical-align: top;\n",
       "    }\n",
       "\n",
       "    .dataframe thead th {\n",
       "        text-align: right;\n",
       "    }\n",
       "</style>\n",
       "<table border=\"1\" class=\"dataframe\">\n",
       "  <thead>\n",
       "    <tr style=\"text-align: right;\">\n",
       "      <th></th>\n",
       "      <th>label</th>\n",
       "      <th>pixel1</th>\n",
       "      <th>pixel2</th>\n",
       "      <th>pixel3</th>\n",
       "      <th>pixel4</th>\n",
       "      <th>pixel5</th>\n",
       "      <th>pixel6</th>\n",
       "      <th>pixel7</th>\n",
       "      <th>pixel8</th>\n",
       "      <th>pixel9</th>\n",
       "      <th>...</th>\n",
       "      <th>pixel775</th>\n",
       "      <th>pixel776</th>\n",
       "      <th>pixel777</th>\n",
       "      <th>pixel778</th>\n",
       "      <th>pixel779</th>\n",
       "      <th>pixel780</th>\n",
       "      <th>pixel781</th>\n",
       "      <th>pixel782</th>\n",
       "      <th>pixel783</th>\n",
       "      <th>pixel784</th>\n",
       "    </tr>\n",
       "  </thead>\n",
       "  <tbody>\n",
       "    <tr>\n",
       "      <th>0</th>\n",
       "      <td>2</td>\n",
       "      <td>0</td>\n",
       "      <td>0</td>\n",
       "      <td>0</td>\n",
       "      <td>0</td>\n",
       "      <td>0</td>\n",
       "      <td>0</td>\n",
       "      <td>0</td>\n",
       "      <td>0</td>\n",
       "      <td>0</td>\n",
       "      <td>...</td>\n",
       "      <td>0</td>\n",
       "      <td>0</td>\n",
       "      <td>0</td>\n",
       "      <td>0</td>\n",
       "      <td>0</td>\n",
       "      <td>0</td>\n",
       "      <td>0</td>\n",
       "      <td>0</td>\n",
       "      <td>0</td>\n",
       "      <td>0</td>\n",
       "    </tr>\n",
       "    <tr>\n",
       "      <th>1</th>\n",
       "      <td>9</td>\n",
       "      <td>0</td>\n",
       "      <td>0</td>\n",
       "      <td>0</td>\n",
       "      <td>0</td>\n",
       "      <td>0</td>\n",
       "      <td>0</td>\n",
       "      <td>0</td>\n",
       "      <td>0</td>\n",
       "      <td>0</td>\n",
       "      <td>...</td>\n",
       "      <td>0</td>\n",
       "      <td>0</td>\n",
       "      <td>0</td>\n",
       "      <td>0</td>\n",
       "      <td>0</td>\n",
       "      <td>0</td>\n",
       "      <td>0</td>\n",
       "      <td>0</td>\n",
       "      <td>0</td>\n",
       "      <td>0</td>\n",
       "    </tr>\n",
       "    <tr>\n",
       "      <th>2</th>\n",
       "      <td>6</td>\n",
       "      <td>0</td>\n",
       "      <td>0</td>\n",
       "      <td>0</td>\n",
       "      <td>0</td>\n",
       "      <td>0</td>\n",
       "      <td>0</td>\n",
       "      <td>0</td>\n",
       "      <td>5</td>\n",
       "      <td>0</td>\n",
       "      <td>...</td>\n",
       "      <td>0</td>\n",
       "      <td>0</td>\n",
       "      <td>0</td>\n",
       "      <td>30</td>\n",
       "      <td>43</td>\n",
       "      <td>0</td>\n",
       "      <td>0</td>\n",
       "      <td>0</td>\n",
       "      <td>0</td>\n",
       "      <td>0</td>\n",
       "    </tr>\n",
       "    <tr>\n",
       "      <th>3</th>\n",
       "      <td>0</td>\n",
       "      <td>0</td>\n",
       "      <td>0</td>\n",
       "      <td>0</td>\n",
       "      <td>1</td>\n",
       "      <td>2</td>\n",
       "      <td>0</td>\n",
       "      <td>0</td>\n",
       "      <td>0</td>\n",
       "      <td>0</td>\n",
       "      <td>...</td>\n",
       "      <td>3</td>\n",
       "      <td>0</td>\n",
       "      <td>0</td>\n",
       "      <td>0</td>\n",
       "      <td>0</td>\n",
       "      <td>1</td>\n",
       "      <td>0</td>\n",
       "      <td>0</td>\n",
       "      <td>0</td>\n",
       "      <td>0</td>\n",
       "    </tr>\n",
       "    <tr>\n",
       "      <th>4</th>\n",
       "      <td>3</td>\n",
       "      <td>0</td>\n",
       "      <td>0</td>\n",
       "      <td>0</td>\n",
       "      <td>0</td>\n",
       "      <td>0</td>\n",
       "      <td>0</td>\n",
       "      <td>0</td>\n",
       "      <td>0</td>\n",
       "      <td>0</td>\n",
       "      <td>...</td>\n",
       "      <td>0</td>\n",
       "      <td>0</td>\n",
       "      <td>0</td>\n",
       "      <td>0</td>\n",
       "      <td>0</td>\n",
       "      <td>0</td>\n",
       "      <td>0</td>\n",
       "      <td>0</td>\n",
       "      <td>0</td>\n",
       "      <td>0</td>\n",
       "    </tr>\n",
       "  </tbody>\n",
       "</table>\n",
       "<p>5 rows × 785 columns</p>\n",
       "</div>"
      ],
      "text/plain": [
       "   label  pixel1  pixel2  pixel3  pixel4  pixel5  pixel6  pixel7  pixel8  \\\n",
       "0      2       0       0       0       0       0       0       0       0   \n",
       "1      9       0       0       0       0       0       0       0       0   \n",
       "2      6       0       0       0       0       0       0       0       5   \n",
       "3      0       0       0       0       1       2       0       0       0   \n",
       "4      3       0       0       0       0       0       0       0       0   \n",
       "\n",
       "   pixel9  ...  pixel775  pixel776  pixel777  pixel778  pixel779  pixel780  \\\n",
       "0       0  ...         0         0         0         0         0         0   \n",
       "1       0  ...         0         0         0         0         0         0   \n",
       "2       0  ...         0         0         0        30        43         0   \n",
       "3       0  ...         3         0         0         0         0         1   \n",
       "4       0  ...         0         0         0         0         0         0   \n",
       "\n",
       "   pixel781  pixel782  pixel783  pixel784  \n",
       "0         0         0         0         0  \n",
       "1         0         0         0         0  \n",
       "2         0         0         0         0  \n",
       "3         0         0         0         0  \n",
       "4         0         0         0         0  \n",
       "\n",
       "[5 rows x 785 columns]"
      ]
     },
     "execution_count": 3,
     "metadata": {},
     "output_type": "execute_result"
    }
   ],
   "source": [
    "train_data = pd.read_csv('/kaggle/input/fashionmnist/fashion-mnist_train.csv')\n",
    "train_data.head()"
   ]
  },
  {
   "cell_type": "code",
   "execution_count": 4,
   "metadata": {
    "execution": {
     "iopub.execute_input": "2020-11-17T13:41:45.302695Z",
     "iopub.status.busy": "2020-11-17T13:41:45.301949Z",
     "iopub.status.idle": "2020-11-17T13:41:45.509770Z",
     "shell.execute_reply": "2020-11-17T13:41:45.508936Z"
    },
    "papermill": {
     "duration": 0.241531,
     "end_time": "2020-11-17T13:41:45.509921",
     "exception": false,
     "start_time": "2020-11-17T13:41:45.268390",
     "status": "completed"
    },
    "tags": []
   },
   "outputs": [
    {
     "data": {
      "text/html": [
       "<div>\n",
       "<style scoped>\n",
       "    .dataframe tbody tr th:only-of-type {\n",
       "        vertical-align: middle;\n",
       "    }\n",
       "\n",
       "    .dataframe tbody tr th {\n",
       "        vertical-align: top;\n",
       "    }\n",
       "\n",
       "    .dataframe thead th {\n",
       "        text-align: right;\n",
       "    }\n",
       "</style>\n",
       "<table border=\"1\" class=\"dataframe\">\n",
       "  <thead>\n",
       "    <tr style=\"text-align: right;\">\n",
       "      <th></th>\n",
       "      <th>pixel1</th>\n",
       "      <th>pixel2</th>\n",
       "      <th>pixel3</th>\n",
       "      <th>pixel4</th>\n",
       "      <th>pixel5</th>\n",
       "      <th>pixel6</th>\n",
       "      <th>pixel7</th>\n",
       "      <th>pixel8</th>\n",
       "      <th>pixel9</th>\n",
       "      <th>pixel10</th>\n",
       "      <th>...</th>\n",
       "      <th>pixel775</th>\n",
       "      <th>pixel776</th>\n",
       "      <th>pixel777</th>\n",
       "      <th>pixel778</th>\n",
       "      <th>pixel779</th>\n",
       "      <th>pixel780</th>\n",
       "      <th>pixel781</th>\n",
       "      <th>pixel782</th>\n",
       "      <th>pixel783</th>\n",
       "      <th>pixel784</th>\n",
       "    </tr>\n",
       "  </thead>\n",
       "  <tbody>\n",
       "    <tr>\n",
       "      <th>0</th>\n",
       "      <td>0</td>\n",
       "      <td>0</td>\n",
       "      <td>0</td>\n",
       "      <td>0</td>\n",
       "      <td>0</td>\n",
       "      <td>0</td>\n",
       "      <td>0</td>\n",
       "      <td>0</td>\n",
       "      <td>0</td>\n",
       "      <td>0</td>\n",
       "      <td>...</td>\n",
       "      <td>0</td>\n",
       "      <td>0</td>\n",
       "      <td>0</td>\n",
       "      <td>0</td>\n",
       "      <td>0</td>\n",
       "      <td>0</td>\n",
       "      <td>0</td>\n",
       "      <td>0</td>\n",
       "      <td>0</td>\n",
       "      <td>0</td>\n",
       "    </tr>\n",
       "    <tr>\n",
       "      <th>1</th>\n",
       "      <td>0</td>\n",
       "      <td>0</td>\n",
       "      <td>0</td>\n",
       "      <td>0</td>\n",
       "      <td>0</td>\n",
       "      <td>0</td>\n",
       "      <td>0</td>\n",
       "      <td>0</td>\n",
       "      <td>0</td>\n",
       "      <td>0</td>\n",
       "      <td>...</td>\n",
       "      <td>0</td>\n",
       "      <td>0</td>\n",
       "      <td>0</td>\n",
       "      <td>0</td>\n",
       "      <td>0</td>\n",
       "      <td>0</td>\n",
       "      <td>0</td>\n",
       "      <td>0</td>\n",
       "      <td>0</td>\n",
       "      <td>0</td>\n",
       "    </tr>\n",
       "    <tr>\n",
       "      <th>2</th>\n",
       "      <td>0</td>\n",
       "      <td>0</td>\n",
       "      <td>0</td>\n",
       "      <td>0</td>\n",
       "      <td>0</td>\n",
       "      <td>0</td>\n",
       "      <td>0</td>\n",
       "      <td>5</td>\n",
       "      <td>0</td>\n",
       "      <td>0</td>\n",
       "      <td>...</td>\n",
       "      <td>0</td>\n",
       "      <td>0</td>\n",
       "      <td>0</td>\n",
       "      <td>30</td>\n",
       "      <td>43</td>\n",
       "      <td>0</td>\n",
       "      <td>0</td>\n",
       "      <td>0</td>\n",
       "      <td>0</td>\n",
       "      <td>0</td>\n",
       "    </tr>\n",
       "    <tr>\n",
       "      <th>3</th>\n",
       "      <td>0</td>\n",
       "      <td>0</td>\n",
       "      <td>0</td>\n",
       "      <td>1</td>\n",
       "      <td>2</td>\n",
       "      <td>0</td>\n",
       "      <td>0</td>\n",
       "      <td>0</td>\n",
       "      <td>0</td>\n",
       "      <td>0</td>\n",
       "      <td>...</td>\n",
       "      <td>3</td>\n",
       "      <td>0</td>\n",
       "      <td>0</td>\n",
       "      <td>0</td>\n",
       "      <td>0</td>\n",
       "      <td>1</td>\n",
       "      <td>0</td>\n",
       "      <td>0</td>\n",
       "      <td>0</td>\n",
       "      <td>0</td>\n",
       "    </tr>\n",
       "    <tr>\n",
       "      <th>4</th>\n",
       "      <td>0</td>\n",
       "      <td>0</td>\n",
       "      <td>0</td>\n",
       "      <td>0</td>\n",
       "      <td>0</td>\n",
       "      <td>0</td>\n",
       "      <td>0</td>\n",
       "      <td>0</td>\n",
       "      <td>0</td>\n",
       "      <td>0</td>\n",
       "      <td>...</td>\n",
       "      <td>0</td>\n",
       "      <td>0</td>\n",
       "      <td>0</td>\n",
       "      <td>0</td>\n",
       "      <td>0</td>\n",
       "      <td>0</td>\n",
       "      <td>0</td>\n",
       "      <td>0</td>\n",
       "      <td>0</td>\n",
       "      <td>0</td>\n",
       "    </tr>\n",
       "  </tbody>\n",
       "</table>\n",
       "<p>5 rows × 784 columns</p>\n",
       "</div>"
      ],
      "text/plain": [
       "   pixel1  pixel2  pixel3  pixel4  pixel5  pixel6  pixel7  pixel8  pixel9  \\\n",
       "0       0       0       0       0       0       0       0       0       0   \n",
       "1       0       0       0       0       0       0       0       0       0   \n",
       "2       0       0       0       0       0       0       0       5       0   \n",
       "3       0       0       0       1       2       0       0       0       0   \n",
       "4       0       0       0       0       0       0       0       0       0   \n",
       "\n",
       "   pixel10  ...  pixel775  pixel776  pixel777  pixel778  pixel779  pixel780  \\\n",
       "0        0  ...         0         0         0         0         0         0   \n",
       "1        0  ...         0         0         0         0         0         0   \n",
       "2        0  ...         0         0         0        30        43         0   \n",
       "3        0  ...         3         0         0         0         0         1   \n",
       "4        0  ...         0         0         0         0         0         0   \n",
       "\n",
       "   pixel781  pixel782  pixel783  pixel784  \n",
       "0         0         0         0         0  \n",
       "1         0         0         0         0  \n",
       "2         0         0         0         0  \n",
       "3         0         0         0         0  \n",
       "4         0         0         0         0  \n",
       "\n",
       "[5 rows x 784 columns]"
      ]
     },
     "execution_count": 4,
     "metadata": {},
     "output_type": "execute_result"
    }
   ],
   "source": [
    "X_train = train_data.drop('label',axis=1)\n",
    "X_train.head()"
   ]
  },
  {
   "cell_type": "code",
   "execution_count": 5,
   "metadata": {
    "execution": {
     "iopub.execute_input": "2020-11-17T13:41:45.567601Z",
     "iopub.status.busy": "2020-11-17T13:41:45.566794Z",
     "iopub.status.idle": "2020-11-17T13:41:45.571609Z",
     "shell.execute_reply": "2020-11-17T13:41:45.570218Z"
    },
    "papermill": {
     "duration": 0.036067,
     "end_time": "2020-11-17T13:41:45.571780",
     "exception": false,
     "start_time": "2020-11-17T13:41:45.535713",
     "status": "completed"
    },
    "tags": []
   },
   "outputs": [
    {
     "name": "stdout",
     "output_type": "stream",
     "text": [
      "(60000, 784)\n"
     ]
    }
   ],
   "source": [
    "X_train=X_train.values\n",
    "print(X_train.shape)"
   ]
  },
  {
   "cell_type": "code",
   "execution_count": 6,
   "metadata": {
    "execution": {
     "iopub.execute_input": "2020-11-17T13:41:45.636226Z",
     "iopub.status.busy": "2020-11-17T13:41:45.635215Z",
     "iopub.status.idle": "2020-11-17T13:41:45.640249Z",
     "shell.execute_reply": "2020-11-17T13:41:45.639250Z"
    },
    "papermill": {
     "duration": 0.041087,
     "end_time": "2020-11-17T13:41:45.640415",
     "exception": false,
     "start_time": "2020-11-17T13:41:45.599328",
     "status": "completed"
    },
    "tags": []
   },
   "outputs": [
    {
     "name": "stdout",
     "output_type": "stream",
     "text": [
      "(60000, 28, 28, 1)\n"
     ]
    }
   ],
   "source": [
    "X_train=X_train.reshape(-1,28,28,1)\n",
    "print(X_train.shape)"
   ]
  },
  {
   "cell_type": "code",
   "execution_count": 7,
   "metadata": {
    "execution": {
     "iopub.execute_input": "2020-11-17T13:41:45.703302Z",
     "iopub.status.busy": "2020-11-17T13:41:45.702387Z",
     "iopub.status.idle": "2020-11-17T13:41:47.036681Z",
     "shell.execute_reply": "2020-11-17T13:41:47.035513Z"
    },
    "papermill": {
     "duration": 1.368425,
     "end_time": "2020-11-17T13:41:47.036866",
     "exception": false,
     "start_time": "2020-11-17T13:41:45.668441",
     "status": "completed"
    },
    "tags": []
   },
   "outputs": [
    {
     "data": {
      "image/png": "[encoded data removed]",
      "text/plain": [
       "<Figure size 432x288 with 10 Axes>"
      ]
     },
     "metadata": {
      "needs_background": "light"
     },
     "output_type": "display_data"
    }
   ],
   "source": [
    "fig,axe=plt.subplots(2,5)\n",
    "idx = 0\n",
    "for i in range(2):\n",
    "    for j in range(5):\n",
    "        axe[i,j].imshow(X_train[idx].reshape(28,28),cmap='gray')\n",
    "        idx+=1"
   ]
  },
  {
   "cell_type": "code",
   "execution_count": 8,
   "metadata": {
    "execution": {
     "iopub.execute_input": "2020-11-17T13:41:47.103671Z",
     "iopub.status.busy": "2020-11-17T13:41:47.102443Z",
     "iopub.status.idle": "2020-11-17T13:41:47.180265Z",
     "shell.execute_reply": "2020-11-17T13:41:47.179329Z"
    },
    "papermill": {
     "duration": 0.113532,
     "end_time": "2020-11-17T13:41:47.180465",
     "exception": false,
     "start_time": "2020-11-17T13:41:47.066933",
     "status": "completed"
    },
    "tags": []
   },
   "outputs": [],
   "source": [
    "X_train =  X_train.astype('float32')"
   ]
  },
  {
   "cell_type": "code",
   "execution_count": 9,
   "metadata": {
    "execution": {
     "iopub.execute_input": "2020-11-17T13:41:47.274405Z",
     "iopub.status.busy": "2020-11-17T13:41:47.273334Z",
     "iopub.status.idle": "2020-11-17T13:41:47.444752Z",
     "shell.execute_reply": "2020-11-17T13:41:47.443778Z"
    },
    "papermill": {
     "duration": 0.218247,
     "end_time": "2020-11-17T13:41:47.444920",
     "exception": false,
     "start_time": "2020-11-17T13:41:47.226673",
     "status": "completed"
    },
    "tags": []
   },
   "outputs": [],
   "source": [
    "X_train = X_train/255\n",
    "X_train = X_train*2 - 1.    # normalization 1 ile 1 arasına çevirdik."
   ]
  },
  {
   "cell_type": "code",
   "execution_count": 10,
   "metadata": {
    "execution": {
     "iopub.execute_input": "2020-11-17T13:41:47.513184Z",
     "iopub.status.busy": "2020-11-17T13:41:47.512370Z",
     "iopub.status.idle": "2020-11-17T13:41:47.557119Z",
     "shell.execute_reply": "2020-11-17T13:41:47.557785Z"
    },
    "papermill": {
     "duration": 0.080516,
     "end_time": "2020-11-17T13:41:47.557963",
     "exception": false,
     "start_time": "2020-11-17T13:41:47.477447",
     "status": "completed"
    },
    "tags": []
   },
   "outputs": [
    {
     "name": "stdout",
     "output_type": "stream",
     "text": [
      "1.0 -1.0\n"
     ]
    }
   ],
   "source": [
    "print(X_train.max(),X_train.min())\n"
   ]
  },
  {
   "cell_type": "markdown",
   "metadata": {
    "papermill": {
     "duration": 0.033866,
     "end_time": "2020-11-17T13:41:47.622028",
     "exception": false,
     "start_time": "2020-11-17T13:41:47.588162",
     "status": "completed"
    },
    "tags": []
   },
   "source": [
    "<a id=\"5\"></a> <br>\n",
    "## Generative Part"
   ]
  },
  {
   "cell_type": "code",
   "execution_count": 11,
   "metadata": {
    "execution": {
     "iopub.execute_input": "2020-11-17T13:41:47.715658Z",
     "iopub.status.busy": "2020-11-17T13:41:47.714470Z",
     "iopub.status.idle": "2020-11-17T13:41:48.024965Z",
     "shell.execute_reply": "2020-11-17T13:41:48.024272Z"
    },
    "papermill": {
     "duration": 0.359917,
     "end_time": "2020-11-17T13:41:48.025104",
     "exception": false,
     "start_time": "2020-11-17T13:41:47.665187",
     "status": "completed"
    },
    "tags": []
   },
   "outputs": [],
   "source": [
    "generator = Sequential()\n",
    "generator.add(Dense(512,input_shape=[100]))\n",
    "generator.add(LeakyReLU(alpha=0.2))\n",
    "generator.add(BatchNormalization(momentum=0.8))\n",
    "generator.add(Dense(256))\n",
    "generator.add(LeakyReLU(alpha=0.2))\n",
    "generator.add(BatchNormalization(momentum=0.8))\n",
    "generator.add(Dense(128))\n",
    "generator.add(LeakyReLU(alpha=0.2))\n",
    "generator.add(BatchNormalization(momentum=0.8))\n",
    "generator.add(Dense(784))\n",
    "generator.add(Reshape([28,28,1]))"
   ]
  },
  {
   "cell_type": "code",
   "execution_count": 12,
   "metadata": {
    "execution": {
     "iopub.execute_input": "2020-11-17T13:41:48.096722Z",
     "iopub.status.busy": "2020-11-17T13:41:48.095570Z",
     "iopub.status.idle": "2020-11-17T13:41:48.100105Z",
     "shell.execute_reply": "2020-11-17T13:41:48.101001Z"
    },
    "papermill": {
     "duration": 0.044491,
     "end_time": "2020-11-17T13:41:48.101265",
     "exception": false,
     "start_time": "2020-11-17T13:41:48.056774",
     "status": "completed"
    },
    "tags": []
   },
   "outputs": [
    {
     "name": "stdout",
     "output_type": "stream",
     "text": [
      "Model: \"sequential\"\n",
      "_________________________________________________________________\n",
      "Layer (type)                 Output Shape              Param #   \n",
      "=================================================================\n",
      "dense (Dense)                (None, 512)               51712     \n",
      "_________________________________________________________________\n",
      "leaky_re_lu (LeakyReLU)      (None, 512)               0         \n",
      "_________________________________________________________________\n",
      "batch_normalization (BatchNo (None, 512)               2048      \n",
      "_________________________________________________________________\n",
      "dense_1 (Dense)              (None, 256)               131328    \n",
      "_________________________________________________________________\n",
      "leaky_re_lu_1 (LeakyReLU)    (None, 256)               0         \n",
      "_________________________________________________________________\n",
      "batch_normalization_1 (Batch (None, 256)               1024      \n",
      "_________________________________________________________________\n",
      "dense_2 (Dense)              (None, 128)               32896     \n",
      "_________________________________________________________________\n",
      "leaky_re_lu_2 (LeakyReLU)    (None, 128)               0         \n",
      "_________________________________________________________________\n",
      "batch_normalization_2 (Batch (None, 128)               512       \n",
      "_________________________________________________________________\n",
      "dense_3 (Dense)              (None, 784)               101136    \n",
      "_________________________________________________________________\n",
      "reshape (Reshape)            (None, 28, 28, 1)         0         \n",
      "=================================================================\n",
      "Total params: 320,656\n",
      "Trainable params: 318,864\n",
      "Non-trainable params: 1,792\n",
      "_________________________________________________________________\n"
     ]
    }
   ],
   "source": [
    "generator.summary()"
   ]
  },
  {
   "cell_type": "markdown",
   "metadata": {
    "papermill": {
     "duration": 0.030599,
     "end_time": "2020-11-17T13:41:48.164519",
     "exception": false,
     "start_time": "2020-11-17T13:41:48.133920",
     "status": "completed"
    },
    "tags": []
   },
   "source": [
    "<a id=\"6\"></a> <br>\n",
    "## Discriminatory Part"
   ]
  },
  {
   "cell_type": "code",
   "execution_count": 13,
   "metadata": {
    "execution": {
     "iopub.execute_input": "2020-11-17T13:41:48.238985Z",
     "iopub.status.busy": "2020-11-17T13:41:48.234183Z",
     "iopub.status.idle": "2020-11-17T13:41:48.350674Z",
     "shell.execute_reply": "2020-11-17T13:41:48.351302Z"
    },
    "papermill": {
     "duration": 0.156718,
     "end_time": "2020-11-17T13:41:48.351467",
     "exception": false,
     "start_time": "2020-11-17T13:41:48.194749",
     "status": "completed"
    },
    "tags": []
   },
   "outputs": [],
   "source": [
    "discriminator = Sequential()\n",
    "discriminator.add(Dense(1,input_shape=[28,28,1]))\n",
    "discriminator.add(Flatten())\n",
    "discriminator.add(Dense(256))\n",
    "discriminator.add(LeakyReLU(alpha=0.2))\n",
    "discriminator.add(Dropout(0.5))\n",
    "discriminator.add(Dense(128))\n",
    "discriminator.add(LeakyReLU(alpha=0.2))\n",
    "discriminator.add(Dropout(0.5))\n",
    "discriminator.add(Dense(64))\n",
    "discriminator.add(LeakyReLU(alpha=0.2))\n",
    "discriminator.add(Dropout(0.5))\n",
    "discriminator.add(Dense(1,activation='sigmoid'))"
   ]
  },
  {
   "cell_type": "code",
   "execution_count": 14,
   "metadata": {
    "execution": {
     "iopub.execute_input": "2020-11-17T13:41:48.421243Z",
     "iopub.status.busy": "2020-11-17T13:41:48.420357Z",
     "iopub.status.idle": "2020-11-17T13:41:48.426219Z",
     "shell.execute_reply": "2020-11-17T13:41:48.425187Z"
    },
    "papermill": {
     "duration": 0.044336,
     "end_time": "2020-11-17T13:41:48.426414",
     "exception": false,
     "start_time": "2020-11-17T13:41:48.382078",
     "status": "completed"
    },
    "tags": []
   },
   "outputs": [
    {
     "name": "stdout",
     "output_type": "stream",
     "text": [
      "Model: \"sequential_1\"\n",
      "_________________________________________________________________\n",
      "Layer (type)                 Output Shape              Param #   \n",
      "=================================================================\n",
      "dense_4 (Dense)              (None, 28, 28, 1)         2         \n",
      "_________________________________________________________________\n",
      "flatten (Flatten)            (None, 784)               0         \n",
      "_________________________________________________________________\n",
      "dense_5 (Dense)              (None, 256)               200960    \n",
      "_________________________________________________________________\n",
      "leaky_re_lu_3 (LeakyReLU)    (None, 256)               0         \n",
      "_________________________________________________________________\n",
      "dropout (Dropout)            (None, 256)               0         \n",
      "_________________________________________________________________\n",
      "dense_6 (Dense)              (None, 128)               32896     \n",
      "_________________________________________________________________\n",
      "leaky_re_lu_4 (LeakyReLU)    (None, 128)               0         \n",
      "_________________________________________________________________\n",
      "dropout_1 (Dropout)          (None, 128)               0         \n",
      "_________________________________________________________________\n",
      "dense_7 (Dense)              (None, 64)                8256      \n",
      "_________________________________________________________________\n",
      "leaky_re_lu_5 (LeakyReLU)    (None, 64)                0         \n",
      "_________________________________________________________________\n",
      "dropout_2 (Dropout)          (None, 64)                0         \n",
      "_________________________________________________________________\n",
      "dense_8 (Dense)              (None, 1)                 65        \n",
      "=================================================================\n",
      "Total params: 242,179\n",
      "Trainable params: 242,179\n",
      "Non-trainable params: 0\n",
      "_________________________________________________________________\n"
     ]
    }
   ],
   "source": [
    "discriminator.summary()\n"
   ]
  },
  {
   "cell_type": "code",
   "execution_count": 15,
   "metadata": {
    "execution": {
     "iopub.execute_input": "2020-11-17T13:41:48.503357Z",
     "iopub.status.busy": "2020-11-17T13:41:48.499174Z",
     "iopub.status.idle": "2020-11-17T13:41:48.653655Z",
     "shell.execute_reply": "2020-11-17T13:41:48.654227Z"
    },
    "papermill": {
     "duration": 0.196213,
     "end_time": "2020-11-17T13:41:48.654394",
     "exception": false,
     "start_time": "2020-11-17T13:41:48.458181",
     "status": "completed"
    },
    "tags": []
   },
   "outputs": [],
   "source": [
    "GAN =Sequential([generator,discriminator])\n",
    "discriminator.compile(optimizer='adam',loss='binary_crossentropy')\n",
    "discriminator.trainable = False"
   ]
  },
  {
   "cell_type": "code",
   "execution_count": 16,
   "metadata": {
    "execution": {
     "iopub.execute_input": "2020-11-17T13:41:48.727823Z",
     "iopub.status.busy": "2020-11-17T13:41:48.727003Z",
     "iopub.status.idle": "2020-11-17T13:41:48.735802Z",
     "shell.execute_reply": "2020-11-17T13:41:48.735095Z"
    },
    "papermill": {
     "duration": 0.050108,
     "end_time": "2020-11-17T13:41:48.735928",
     "exception": false,
     "start_time": "2020-11-17T13:41:48.685820",
     "status": "completed"
    },
    "tags": []
   },
   "outputs": [],
   "source": [
    "GAN.compile(optimizer='adam',loss='binary_crossentropy')\n"
   ]
  },
  {
   "cell_type": "code",
   "execution_count": 17,
   "metadata": {
    "execution": {
     "iopub.execute_input": "2020-11-17T13:41:48.804841Z",
     "iopub.status.busy": "2020-11-17T13:41:48.803785Z",
     "iopub.status.idle": "2020-11-17T13:41:48.809465Z",
     "shell.execute_reply": "2020-11-17T13:41:48.808708Z"
    },
    "papermill": {
     "duration": 0.042538,
     "end_time": "2020-11-17T13:41:48.809610",
     "exception": false,
     "start_time": "2020-11-17T13:41:48.767072",
     "status": "completed"
    },
    "tags": []
   },
   "outputs": [
    {
     "data": {
      "text/plain": [
       "[<tensorflow.python.keras.engine.sequential.Sequential at 0x7f821be31590>,\n",
       " <tensorflow.python.keras.engine.sequential.Sequential at 0x7f82009aeb90>]"
      ]
     },
     "execution_count": 17,
     "metadata": {},
     "output_type": "execute_result"
    }
   ],
   "source": [
    "GAN.layers"
   ]
  },
  {
   "cell_type": "code",
   "execution_count": 18,
   "metadata": {
    "execution": {
     "iopub.execute_input": "2020-11-17T13:41:48.881884Z",
     "iopub.status.busy": "2020-11-17T13:41:48.878100Z",
     "iopub.status.idle": "2020-11-17T13:41:48.887386Z",
     "shell.execute_reply": "2020-11-17T13:41:48.886251Z"
    },
    "papermill": {
     "duration": 0.045914,
     "end_time": "2020-11-17T13:41:48.887585",
     "exception": false,
     "start_time": "2020-11-17T13:41:48.841671",
     "status": "completed"
    },
    "tags": []
   },
   "outputs": [
    {
     "name": "stdout",
     "output_type": "stream",
     "text": [
      "Model: \"sequential_2\"\n",
      "_________________________________________________________________\n",
      "Layer (type)                 Output Shape              Param #   \n",
      "=================================================================\n",
      "sequential (Sequential)      (None, 28, 28, 1)         320656    \n",
      "_________________________________________________________________\n",
      "sequential_1 (Sequential)    (None, 1)                 242179    \n",
      "=================================================================\n",
      "Total params: 562,835\n",
      "Trainable params: 318,864\n",
      "Non-trainable params: 243,971\n",
      "_________________________________________________________________\n"
     ]
    }
   ],
   "source": [
    "GAN.summary()"
   ]
  },
  {
   "cell_type": "markdown",
   "metadata": {
    "papermill": {
     "duration": 0.032639,
     "end_time": "2020-11-17T13:41:48.952616",
     "exception": false,
     "start_time": "2020-11-17T13:41:48.919977",
     "status": "completed"
    },
    "tags": []
   },
   "source": [
    "<a id=\"7\"></a> <br>\n",
    "## Create GANs Model"
   ]
  },
  {
   "cell_type": "code",
   "execution_count": 19,
   "metadata": {
    "execution": {
     "iopub.execute_input": "2020-11-17T13:41:49.024326Z",
     "iopub.status.busy": "2020-11-17T13:41:49.023551Z",
     "iopub.status.idle": "2020-11-17T13:41:49.026977Z",
     "shell.execute_reply": "2020-11-17T13:41:49.026193Z"
    },
    "papermill": {
     "duration": 0.041645,
     "end_time": "2020-11-17T13:41:49.027119",
     "exception": false,
     "start_time": "2020-11-17T13:41:48.985474",
     "status": "completed"
    },
    "tags": []
   },
   "outputs": [],
   "source": [
    "epochs = 30\n",
    "batch_size = 100\n",
    "noise_shape=100"
   ]
  },
  {
   "cell_type": "code",
   "execution_count": 20,
   "metadata": {
    "execution": {
     "iopub.execute_input": "2020-11-17T13:41:49.106221Z",
     "iopub.status.busy": "2020-11-17T13:41:49.105406Z",
     "iopub.status.idle": "2020-11-17T13:55:10.510745Z",
     "shell.execute_reply": "2020-11-17T13:55:10.511349Z"
    },
    "papermill": {
     "duration": 801.451094,
     "end_time": "2020-11-17T13:55:10.511543",
     "exception": false,
     "start_time": "2020-11-17T13:41:49.060449",
     "status": "completed"
    },
    "tags": []
   },
   "outputs": [
    {
     "name": "stdout",
     "output_type": "stream",
     "text": [
      "epoch:  0\n",
      "epoch:  1\n",
      "epoch:  2\n",
      "epoch:  3\n",
      "epoch:  4\n",
      "epoch:  5\n",
      "epoch:  6\n",
      "epoch:  7\n",
      "epoch:  8\n",
      "epoch:  9\n",
      "epoch:  10\n",
      "epoch:  11\n",
      "epoch:  12\n",
      "epoch:  13\n",
      "epoch:  14\n",
      "epoch:  15\n",
      "epoch:  16\n",
      "epoch:  17\n",
      "epoch:  18\n",
      "epoch:  19\n",
      "epoch:  20\n",
      "epoch:  21\n",
      "epoch:  22\n",
      "epoch:  23\n",
      "epoch:  24\n",
      "epoch:  25\n",
      "epoch:  26\n",
      "epoch:  27\n",
      "epoch:  28\n",
      "epoch:  29\n"
     ]
    }
   ],
   "source": [
    "for epoch in range(epochs):\n",
    "    for __ in range(X_train.shape[0]//batch_size):\n",
    "    \n",
    "        noise=np.random.normal(size = [batch_size,noise_shape]) \n",
    "        gen_image = generator.predict_on_batch(noise)\n",
    "        train_dataset = X_train[i*batch_size:(i+1)*batch_size]\n",
    "        \n",
    "        #training discriminator on real images\n",
    "        train_label=np.ones(shape=(batch_size,1))\n",
    "        discriminator.trainable = True\n",
    "        d_loss_real=discriminator.train_on_batch(train_dataset,train_label)\n",
    "        \n",
    "        #training discriminator on fake images\n",
    "        train_label=np.zeros(shape=(batch_size,1))\n",
    "        d_loss_fake=discriminator.train_on_batch(gen_image,train_label)\n",
    "        \n",
    "        \n",
    "        #training generator \n",
    "        noise=np.random.normal(size=[batch_size,noise_shape])\n",
    "        train_label=np.ones(shape=(batch_size,1))\n",
    "        discriminator.trainable = False #while training the generator as combined model,discriminator training should be turned off\n",
    "        \n",
    "        d_g_loss_batch =GAN.train_on_batch(noise, train_label)\n",
    "        \n",
    "    print(\"epoch: \",epoch)\n",
    "\n"
   ]
  },
  {
   "cell_type": "code",
   "execution_count": 21,
   "metadata": {
    "execution": {
     "iopub.execute_input": "2020-11-17T13:55:10.610903Z",
     "iopub.status.busy": "2020-11-17T13:55:10.609835Z",
     "iopub.status.idle": "2020-11-17T13:55:10.786613Z",
     "shell.execute_reply": "2020-11-17T13:55:10.785911Z"
    },
    "papermill": {
     "duration": 0.230673,
     "end_time": "2020-11-17T13:55:10.786760",
     "exception": false,
     "start_time": "2020-11-17T13:55:10.556087",
     "status": "completed"
    },
    "tags": []
   },
   "outputs": [],
   "source": [
    "noise=np.random.normal(size=[10,noise_shape])\n",
    "\n",
    "gen_image = generator.predict(noise)"
   ]
  },
  {
   "cell_type": "markdown",
   "metadata": {
    "papermill": {
     "duration": 0.044275,
     "end_time": "2020-11-17T13:55:10.876221",
     "exception": false,
     "start_time": "2020-11-17T13:55:10.831946",
     "status": "completed"
    },
    "tags": []
   },
   "source": [
    "<a id=\"8\"></a> <br>\n",
    "## Visualization"
   ]
  },
  {
   "cell_type": "code",
   "execution_count": 22,
   "metadata": {
    "execution": {
     "iopub.execute_input": "2020-11-17T13:55:10.977761Z",
     "iopub.status.busy": "2020-11-17T13:55:10.971233Z",
     "iopub.status.idle": "2020-11-17T13:55:11.139286Z",
     "shell.execute_reply": "2020-11-17T13:55:11.138657Z"
    },
    "papermill": {
     "duration": 0.218473,
     "end_time": "2020-11-17T13:55:11.139411",
     "exception": false,
     "start_time": "2020-11-17T13:55:10.920938",
     "status": "completed"
    },
    "tags": []
   },
   "outputs": [
    {
     "data": {
      "text/plain": [
       "Text(0.5, 1.0, 'How the noise looks')"
      ]
     },
     "execution_count": 22,
     "metadata": {},
     "output_type": "execute_result"
    },
    {
     "data": {
      "image/png": "[encoded data removed]",
      "text/plain": [
       "<Figure size 432x288 with 1 Axes>"
      ]
     },
     "metadata": {
      "needs_background": "light"
     },
     "output_type": "display_data"
    }
   ],
   "source": [
    "plt.imshow(noise)\n",
    "plt.title('How the noise looks')"
   ]
  },
  {
   "cell_type": "code",
   "execution_count": 23,
   "metadata": {
    "execution": {
     "iopub.execute_input": "2020-11-17T13:55:11.246708Z",
     "iopub.status.busy": "2020-11-17T13:55:11.245838Z",
     "iopub.status.idle": "2020-11-17T13:55:12.400310Z",
     "shell.execute_reply": "2020-11-17T13:55:12.399456Z"
    },
    "papermill": {
     "duration": 1.21336,
     "end_time": "2020-11-17T13:55:12.400447",
     "exception": false,
     "start_time": "2020-11-17T13:55:11.187087",
     "status": "completed"
    },
    "tags": []
   },
   "outputs": [
    {
     "data": {
      "image/png": "[encoded data removed]",
      "text/plain": [
       "<Figure size 432x288 with 10 Axes>"
      ]
     },
     "metadata": {
      "needs_background": "light"
     },
     "output_type": "display_data"
    }
   ],
   "source": [
    "fig,axe=plt.subplots(2,5)\n",
    "fig.suptitle(\"Actual Images\")\n",
    "idx = 0\n",
    "for i in range(2):\n",
    "    for j in range(5):\n",
    "        axe[i,j].imshow(X_train[idx].reshape(28,28),cmap='gray')\n",
    "        idx+=10"
   ]
  },
  {
   "cell_type": "code",
   "execution_count": 24,
   "metadata": {
    "execution": {
     "iopub.execute_input": "2020-11-17T13:55:12.515426Z",
     "iopub.status.busy": "2020-11-17T13:55:12.508133Z",
     "iopub.status.idle": "2020-11-17T13:55:13.912188Z",
     "shell.execute_reply": "2020-11-17T13:55:13.911504Z"
    },
    "papermill": {
     "duration": 1.462751,
     "end_time": "2020-11-17T13:55:13.912322",
     "exception": false,
     "start_time": "2020-11-17T13:55:12.449571",
     "status": "completed"
    },
    "tags": []
   },
   "outputs": [
    {
     "data": {
      "image/png": "[encoded data removed]",
      "text/plain": [
       "<Figure size 432x288 with 10 Axes>"
      ]
     },
     "metadata": {
      "needs_background": "light"
     },
     "output_type": "display_data"
    }
   ],
   "source": [
    "fig,axe=plt.subplots(2,5)\n",
    "fig.suptitle('Generated Images from Noise using GANs')\n",
    "idx=0\n",
    "for i in range(2):\n",
    "     for j in range(5):\n",
    "         axe[i,j].imshow(gen_image[idx].reshape(28,28),cmap='gray')\n",
    "         idx+=1"
   ]
  }
 ],
 "metadata": {
  "kernelspec": {
   "display_name": "Python 3",
   "language": "python",
   "name": "python3"
  },
  "language_info": {
   "codemirror_mode": {
    "name": "ipython",
    "version": 3
   },
   "file_extension": ".py",
   "mimetype": "text/x-python",
   "name": "python",
   "nbconvert_exporter": "python",
   "pygments_lexer": "ipython3",
   "version": "3.7.6"
  },
  "papermill": {
   "duration": 827.079414,
   "end_time": "2020-11-17T13:55:14.173413",
   "environment_variables": {},
   "exception": null,
   "input_path": "__notebook__.ipynb",
   "output_path": "__notebook__.ipynb",
   "parameters": {},
   "start_time": "2020-11-17T13:41:27.093999",
   "version": "2.1.0"
  }
 },
 "nbformat": 4,
 "nbformat_minor": 4
}
